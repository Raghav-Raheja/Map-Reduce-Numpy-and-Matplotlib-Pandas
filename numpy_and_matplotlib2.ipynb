{
 "cells": [
  {
   "cell_type": "markdown",
   "metadata": {},
   "source": [
    "# Part 1: Numpy\n",
    "\n",
    "In this part of the homework, we will use `Numpy` for multiple tasks"
   ]
  },
  {
   "cell_type": "code",
   "execution_count": 1,
   "metadata": {},
   "outputs": [],
   "source": [
    "# this cell imports all the necessary package for this notebook\n",
    "%matplotlib inline\n",
    "import numpy as np\n",
    "import pandas as pd\n",
    "import matplotlib.pyplot as plt\n",
    "from numpy import linalg"
   ]
  },
  {
   "cell_type": "markdown",
   "metadata": {},
   "source": [
    "---\n",
    "According to wikipedia, a graph is a structure that represents connections between *vertices* or *nodes* through *edges*. These edges represent relationships. For example, the social structure Anna is a friend of Bob, and Bob is a friend of Charles, and Charles is a friend of Anna can be represented by three nodes A, B, and C and three edges connecting A $\\rightarrow$ B, B $\\rightarrow$ C, and C $\\rightarrow$ A.\n",
    "\n",
    "We can represent a graph using Numpy arrays. In particular, we will represent a graph as a matrix such that the entry $a_{ij}$ will be 1 if there is a connection between the node $i$ and $j$, and 0 otherwise. This matrix is sometimes called the [Adjacency matrix](https://en.wikipedia.org/wiki/Adjacency_matrix).\n",
    "\n",
    "In a Numpy representation of a graph, we will assume that an $n$ by $n$ matrix $A$ represents the connectivity between nodes 0, 1, 2, $\\dots$, and $n-1$. In this way, the following matrix\n",
    "\n",
    "$$ \n",
    "A = \\left(\\begin{array}{cc}\n",
    "0 & 1 & 0\\\\\n",
    "0 & 0 & 1\\\\\n",
    "1 & 0 & 0\\\\\n",
    "\\end{array}\\right)\n",
    "$$\n",
    "\n",
    "represents the graph previously described where Anna is node 0, Bob is node 1, and Charles is node 1."
   ]
  },
  {
   "cell_type": "markdown",
   "metadata": {},
   "source": [
    "## Question 1.1:  (15 pts)\n",
    "\n",
    "Constructing interesting graphs can sometimes be done by defining a function `f(i,j)` that produces a 1 if there is an edge between node `i` and `j` and 0 if there is not an edge. Create a function `create_graph(f, n)` that returns a Numpy matrix with the adjancency matrix defined by the function `f` for $i\\in(0, \\dots, n-1)$ and $j \\in (0, \\dots, n-1)$\n",
    "\n",
    "For example, for the following function\n",
    "\n",
    "```python\n",
    "def self_connections_only(i, j):\n",
    "    if i == j:\n",
    "        return 1\n",
    "    else:\n",
    "        return 0\n",
    "```\n",
    "\n",
    "the call to `create_matrix(self_connections_only, 4)` should create the following adjacency matrix\n",
    "\n",
    "```python\n",
    "array([[1, 0, 0, 0],\n",
    "       [0, 1, 0, 0],\n",
    "       [0, 0, 1, 0],\n",
    "       [0, 0, 0, 1]])\n",
    "```\n",
    "\n",
    "**Hint: Use list comprehension to evaluate the possible values of `f(i, j)` and then convert into a Numpy matrix**"
   ]
  },
  {
   "cell_type": "code",
   "execution_count": 2,
   "metadata": {
    "deletable": false,
    "nbgrader": {
     "checksum": "9af432b8f8f357e2326f2359bff8a229",
     "grade": false,
     "grade_id": "cell-1af650a157ed2ab3",
     "locked": false,
     "schema_version": 1,
     "solution": true
    }
   },
   "outputs": [],
   "source": [
    "def create_matrix(f, n):\n",
    "    # YOUR CODE HERE\n",
    "    a = [f(i, j) for i in range(1,n+1) for j in range(1,n+1) ]\n",
    "    b = np.matrix(a).reshape(n,n)\n",
    "    return np.squeeze(np.asarray(b))\n",
    "    raise NotImplementedError()"
   ]
  },
  {
   "cell_type": "code",
   "execution_count": 3,
   "metadata": {
    "deletable": false,
    "editable": false,
    "nbgrader": {
     "checksum": "db8276a8373e2ce34a07cc95cbfbc12d",
     "grade": false,
     "grade_id": "cell-63ab858b6164b0cd",
     "locked": true,
     "schema_version": 1,
     "solution": false
    }
   },
   "outputs": [],
   "source": [
    "def self_connections_only(i, j):\n",
    "    if i == j:\n",
    "        return 1\n",
    "    else:\n",
    "        return 0"
   ]
  },
  {
   "cell_type": "code",
   "execution_count": 4,
   "metadata": {},
   "outputs": [
    {
     "data": {
      "text/plain": [
       "array([[1, 0, 0, 0],\n",
       "       [0, 1, 0, 0],\n",
       "       [0, 0, 1, 0],\n",
       "       [0, 0, 0, 1]])"
      ]
     },
     "execution_count": 4,
     "metadata": {},
     "output_type": "execute_result"
    }
   ],
   "source": [
    "# test the function or define your own function\n",
    "create_matrix(self_connections_only, 4)"
   ]
  },
  {
   "cell_type": "code",
   "execution_count": 5,
   "metadata": {
    "deletable": false,
    "editable": false,
    "nbgrader": {
     "checksum": "7b46c2ab884b9cb93beb9e2bba9352e0",
     "grade": true,
     "grade_id": "cell-26cdc34a26d81828",
     "locked": true,
     "points": 15,
     "schema_version": 1,
     "solution": false
    }
   },
   "outputs": [],
   "source": [
    "assert create_matrix(self_connections_only, 10).sum() == 10\n",
    "assert create_matrix(self_connections_only, 100).sum() == 100\n",
    "\n",
    "def upper_triangular(i, j):\n",
    "    if j>=i:\n",
    "        return 1\n",
    "    else:\n",
    "        return 0\n",
    "# testing a range of matrices\n",
    "for i in range(1, 10):\n",
    "    np.testing.assert_almost_equal(create_matrix(upper_triangular, i).sum(axis=0), np.arange(1, i+1, 1))\n",
    "    "
   ]
  },
  {
   "cell_type": "markdown",
   "metadata": {},
   "source": [
    "## Question 1.2: (35 pts)\n",
    "\n",
    "There are several quantitites that we would like to compute about graphs. In this question, I will ask you to define functions that return these quantities.\n",
    "\n",
    "**All these quantities must be computed using Numpy arrays**"
   ]
  },
  {
   "cell_type": "markdown",
   "metadata": {},
   "source": [
    "### Incoming connections\n",
    "\n",
    "Define a function that returns the average number of incoming connections to nodes.\n",
    "For example, for the following graph:\n",
    "\n",
    "$$ \n",
    "A = \\left(\\begin{array}{cc}\n",
    "0 & 1 & 1\\\\\n",
    "0 & 0 & 1\\\\\n",
    "0 & 0 & 0\\\\\n",
    "\\end{array}\\right)\n",
    "$$\n",
    "\n",
    "The average number of incoming connections is $\\frac{0 + 1 + 2}{3} = 1$"
   ]
  },
  {
   "cell_type": "code",
   "execution_count": 6,
   "metadata": {
    "deletable": false,
    "nbgrader": {
     "checksum": "6f2c8af1f4390c8a3c9eb66ffddc42fb",
     "grade": false,
     "grade_id": "cell-b0018694d688e556",
     "locked": false,
     "schema_version": 1,
     "solution": true
    }
   },
   "outputs": [],
   "source": [
    "# 10 points\n",
    "def avg_incoming_connections(A):\n",
    "    # YOUR CODE HERE\n",
    "    b = np.sum(np.sum(A,axis = 0))/np.shape(A)[1]\n",
    "    return b\n",
    "    raise NotImplementedError()"
   ]
  },
  {
   "cell_type": "code",
   "execution_count": 7,
   "metadata": {
    "deletable": false,
    "editable": false,
    "nbgrader": {
     "checksum": "7d45e803c953328b59d83e6b0d90d4e8",
     "grade": true,
     "grade_id": "cell-1763b0760e46c34f",
     "locked": true,
     "points": 10,
     "schema_version": 1,
     "solution": false
    }
   },
   "outputs": [],
   "source": [
    "A = np.array([[0, 1, 1], [0, 0, 1], [0, 0, 0]])\n",
    "np.testing.assert_almost_equal(avg_incoming_connections(A), 1)\n",
    "\n",
    "bA = np.array([[1, 0, 0, 0, 1],\n",
    "       [1, 1, 0, 1, 1],\n",
    "       [1, 0, 1, 0, 0],\n",
    "       [0, 1, 0, 1, 0],\n",
    "       [0, 0, 1, 1, 0]])\n",
    "np.testing.assert_almost_equal(avg_incoming_connections(bA), 2.3999999999999999)\n",
    "\n"
   ]
  },
  {
   "cell_type": "markdown",
   "metadata": {},
   "source": [
    "### Self to outward connection difference\n",
    "\n",
    "From an adjancency matrix, compute the total number of self-connections ($s$) and the total number of non-self-connections ($o$). And compute the following quantity\n",
    "\n",
    "$$d = \\log(s) - \\log(o)$$\n",
    "\n",
    "For the following graph\n",
    "\n",
    "$$ \n",
    "A = \\left(\\begin{array}{cc}\n",
    "1 & 1 & 1\\\\\n",
    "0 & 0 & 1\\\\\n",
    "1 & 0 & 0\\\\\n",
    "\\end{array}\\right)\n",
    "$$\n",
    "\n",
    "$s = 1$ and $o = 4$ therefore $d = \\log(1) - \\log(4) = -1.386$ Define the function with the name `connection_difference(A)`"
   ]
  },
  {
   "cell_type": "code",
   "execution_count": 8,
   "metadata": {
    "deletable": false,
    "nbgrader": {
     "checksum": "45a768030f5a88a228832c1bd6213337",
     "grade": false,
     "grade_id": "cell-812bd72e662a7a15",
     "locked": false,
     "schema_version": 1,
     "solution": true
    }
   },
   "outputs": [],
   "source": [
    "# 10 points\n",
    "def connection_difference(A):\n",
    "    # YOUR CODE HERE\n",
    "    s = 0\n",
    "    o = 0\n",
    "    for i in range (np.shape(A)[1]):\n",
    "        for j in range(np.shape(A)[1]):\n",
    "            if(i == j and A[i,j] == 1):\n",
    "                s += 1\n",
    "            elif(i != j and A[i,j] == 1):\n",
    "                o += 1\n",
    "    return (np.log(s) - np.log(o)) \n",
    "    raise NotImplementedError()"
   ]
  },
  {
   "cell_type": "code",
   "execution_count": 9,
   "metadata": {},
   "outputs": [
    {
     "data": {
      "text/plain": [
       "-1.3862943611198906"
      ]
     },
     "execution_count": 9,
     "metadata": {},
     "output_type": "execute_result"
    }
   ],
   "source": [
    "# try it here\n",
    "A = np.array([[1, 1, 1],\n",
    "             [0, 0, 1],\n",
    "             [1, 0, 0]])\n",
    "connection_difference(A)"
   ]
  },
  {
   "cell_type": "code",
   "execution_count": 10,
   "metadata": {
    "deletable": false,
    "editable": false,
    "nbgrader": {
     "checksum": "a01bfceefb33b2fbcc6bc5d167b99dff",
     "grade": true,
     "grade_id": "cell-07be11fa4376fa19",
     "locked": true,
     "points": 10,
     "schema_version": 1,
     "solution": false
    }
   },
   "outputs": [],
   "source": [
    "A = np.array([[1, 1, 1],\n",
    "             [0, 0, 1],\n",
    "             [1, 0, 0]])\n",
    "np.testing.assert_almost_equal(connection_difference(A), -1.3862943611198906)\n",
    "\n",
    "big_matrix = np.array([[0, 1, 1, 0, 1, 1, 1, 1, 1, 1],\n",
    "       [1, 0, 0, 1, 0, 0, 0, 0, 0, 1],\n",
    "       [0, 1, 1, 0, 0, 1, 1, 1, 1, 0],\n",
    "       [1, 0, 1, 0, 1, 1, 0, 1, 1, 0],\n",
    "       [0, 1, 0, 1, 1, 1, 1, 1, 0, 1],\n",
    "       [0, 1, 1, 1, 1, 0, 1, 0, 0, 1],\n",
    "       [1, 0, 1, 0, 1, 0, 0, 0, 0, 0],\n",
    "       [1, 1, 0, 0, 0, 1, 1, 0, 1, 0],\n",
    "       [0, 1, 0, 1, 1, 1, 1, 1, 1, 0],\n",
    "       [1, 1, 0, 0, 1, 0, 0, 1, 1, 0]])\n",
    "np.testing.assert_almost_equal(connection_difference(big_matrix), -2.8716796248840124)"
   ]
  },
  {
   "cell_type": "markdown",
   "metadata": {},
   "source": [
    "### Transition probabilities\n",
    "\n",
    "We can use the adjacency matrix to compute the transition probabilities between nodes. For example, imagine that you are sitting in any node $i$ and you randomly pick one of the edges to go to the next node $j$. We can compute the probability of going to a node $j$ from $i$ as follows and store in a matrix $P$ as follows\n",
    "\n",
    "$$\n",
    "P(A) = (\\frac{a_{ij}}{\\sum_{z=1}^n a_{iz}})_{ij}\n",
    "$$\n",
    "\n",
    "For example, for the following adjancy matrix\n",
    "\n",
    "\n",
    "$$ \n",
    "W = \\left(\\begin{array}{cc}\n",
    "0 & 1 & 1\\\\\n",
    "0 & 0 & 1\\\\\n",
    "1 & 1 & 1\\\\\n",
    "\\end{array}\\right)\n",
    "$$\n",
    "\n",
    "The matrix $P$ will be\n",
    "\n",
    "$$\n",
    "P(W) = \\left(\\begin{array}{cc}\n",
    "0 & 1/2 & 1/2\\\\\n",
    "0 & 0 & 1\\\\\n",
    "1/3 & 1/3 & 1/3\\\\\n",
    "\\end{array}\\right)\n",
    "$$\n",
    "\n",
    "Define a function `transition_matrix(A)` that computes the transition matrix as described aboved for adjancency matrix `A`.\n",
    "\n",
    "**Hint: If you use broadcasting, make sure to `reshape` to match the broadcasting axis correctly**"
   ]
  },
  {
   "cell_type": "code",
   "execution_count": 11,
   "metadata": {
    "deletable": false,
    "nbgrader": {
     "checksum": "090ef6d8a529ce781d1195075cd5d9f2",
     "grade": false,
     "grade_id": "cell-f9f8e377c3e14647",
     "locked": false,
     "schema_version": 1,
     "solution": true
    }
   },
   "outputs": [],
   "source": [
    "# 15 points\n",
    "def transition_matrix(A):\n",
    "    # YOUR CODE HERE\n",
    "    t = [0 for i in range(np.shape(A)[0])]\n",
    "    for i in range(np.shape(A)[0]):\n",
    "        t[i] = 0\n",
    "        for j in range(np.shape(A)[1]):\n",
    "            if(A[i,j] == 1):\n",
    "                t[i] += 1\n",
    "    return (A.T/t).T\n",
    "    raise NotImplementedError()"
   ]
  },
  {
   "cell_type": "code",
   "execution_count": 12,
   "metadata": {},
   "outputs": [],
   "source": [
    "W = np.array([[0, 1, 1],\n",
    "       [0, 0, 1],\n",
    "       [1, 1, 1]])"
   ]
  },
  {
   "cell_type": "markdown",
   "metadata": {},
   "source": [
    "The result should look like this:\n",
    "\n",
    "```python\n",
    "In: transition_matrix(W)\n",
    "```\n",
    "\n",
    "```python\n",
    "Out: array([[ 0.        ,  0.5       ,  0.5       ],\n",
    "       [ 0.        ,  0.        ,  1.        ],\n",
    "       [ 0.33333333,  0.33333333,  0.33333333]])\n",
    "```"
   ]
  },
  {
   "cell_type": "code",
   "execution_count": 13,
   "metadata": {
    "deletable": false,
    "editable": false,
    "nbgrader": {
     "checksum": "e01128f8021c2f10ab2826ebd0cf772e",
     "grade": true,
     "grade_id": "cell-61bf0e87b97a6afd",
     "locked": true,
     "points": 15,
     "schema_version": 1,
     "solution": false
    }
   },
   "outputs": [],
   "source": [
    "W1 = np.array([[1, 0, 0, 1],\n",
    "             [1, 1, 1, 1],\n",
    "             [0, 0, 0, 1],\n",
    "             [0, 0, 1, 0]])\n",
    "np.testing.assert_almost_equal(transition_matrix(W1), \n",
    "                              np.array([[ 0.5 ,  0.  ,  0.  ,  0.5 ],\n",
    "       [ 0.25,  0.25,  0.25,  0.25],\n",
    "       [ 0.  ,  0.  ,  0.  ,  1.  ],\n",
    "       [ 0.  ,  0.  ,  1.  ,  0.  ]]))\n",
    "\n",
    "W2 = np.array([[1]])\n",
    "np.testing.assert_almost_equal(transition_matrix(W2), np.array([[1]]))\n",
    "another_big_matrix = np.array([[1, 1, 1, 0, 1, 1, 0, 1, 0, 0],\n",
    "       [0, 0, 1, 1, 1, 1, 0, 0, 1, 0],\n",
    "       [1, 0, 0, 1, 0, 1, 0, 1, 1, 0],\n",
    "       [0, 1, 0, 0, 0, 0, 0, 1, 1, 1],\n",
    "       [1, 0, 1, 0, 1, 1, 1, 1, 1, 1],\n",
    "       [0, 0, 1, 1, 0, 0, 0, 0, 1, 0],\n",
    "       [1, 0, 1, 1, 1, 1, 0, 0, 0, 0],\n",
    "       [1, 0, 1, 1, 0, 0, 0, 0, 0, 1],\n",
    "       [0, 1, 1, 1, 0, 1, 1, 0, 0, 1],\n",
    "       [0, 1, 1, 0, 0, 1, 1, 0, 1, 1]])\n",
    "\n",
    "np.testing.assert_almost_equal(transition_matrix(another_big_matrix),\n",
    "        np.array([[ 0.16666667,  0.16666667,  0.16666667,  0.        ,  0.16666667,\n",
    "         0.16666667,  0.        ,  0.16666667,  0.        ,  0.        ],\n",
    "       [ 0.        ,  0.        ,  0.2       ,  0.2       ,  0.2       ,\n",
    "         0.2       ,  0.        ,  0.        ,  0.2       ,  0.        ],\n",
    "       [ 0.2       ,  0.        ,  0.        ,  0.2       ,  0.        ,\n",
    "         0.2       ,  0.        ,  0.2       ,  0.2       ,  0.        ],\n",
    "       [ 0.        ,  0.25      ,  0.        ,  0.        ,  0.        ,\n",
    "         0.        ,  0.        ,  0.25      ,  0.25      ,  0.25      ],\n",
    "       [ 0.125     ,  0.        ,  0.125     ,  0.        ,  0.125     ,\n",
    "         0.125     ,  0.125     ,  0.125     ,  0.125     ,  0.125     ],\n",
    "       [ 0.        ,  0.        ,  0.33333333,  0.33333333,  0.        ,\n",
    "         0.        ,  0.        ,  0.        ,  0.33333333,  0.        ],\n",
    "       [ 0.2       ,  0.        ,  0.2       ,  0.2       ,  0.2       ,\n",
    "         0.2       ,  0.        ,  0.        ,  0.        ,  0.        ],\n",
    "       [ 0.25      ,  0.        ,  0.25      ,  0.25      ,  0.        ,\n",
    "         0.        ,  0.        ,  0.        ,  0.        ,  0.25      ],\n",
    "       [ 0.        ,  0.16666667,  0.16666667,  0.16666667,  0.        ,\n",
    "         0.16666667,  0.16666667,  0.        ,  0.        ,  0.16666667],\n",
    "       [ 0.        ,  0.16666667,  0.16666667,  0.        ,  0.        ,\n",
    "         0.16666667,  0.16666667,  0.        ,  0.16666667,  0.16666667]])\n",
    "                              \n",
    "                              )\n"
   ]
  },
  {
   "cell_type": "code",
   "execution_count": null,
   "metadata": {},
   "outputs": [],
   "source": []
  }
 ],
 "metadata": {
  "kernelspec": {
   "display_name": "Python 3",
   "language": "python",
   "name": "python3"
  },
  "language_info": {
   "codemirror_mode": {
    "name": "ipython",
    "version": 3
   },
   "file_extension": ".py",
   "mimetype": "text/x-python",
   "name": "python",
   "nbconvert_exporter": "python",
   "pygments_lexer": "ipython3",
   "version": "3.6.3"
  }
 },
 "nbformat": 4,
 "nbformat_minor": 2
}
